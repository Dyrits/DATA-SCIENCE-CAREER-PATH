{
 "cells": [
  {
   "cell_type": "code",
   "execution_count": 1,
   "metadata": {},
   "outputs": [
    {
     "data": {
      "text/plain": [
       "'Connected: @None'"
      ]
     },
     "execution_count": 1,
     "metadata": {},
     "output_type": "execute_result"
    }
   ],
   "source": [
    "# !pip install ipython-sql\n",
    "%load_ext sql\n",
    "%sql sqlite://"
   ]
  },
  {
   "cell_type": "code",
   "execution_count": 2,
   "metadata": {},
   "outputs": [
    {
     "name": "stdout",
     "output_type": "stream",
     "text": [
      " * sqlite://\n",
      "Done.\n",
      "1 rows affected.\n",
      "1 rows affected.\n",
      "1 rows affected.\n",
      "1 rows affected.\n",
      "Done.\n",
      "1 rows affected.\n",
      "1 rows affected.\n",
      "1 rows affected.\n",
      "1 rows affected.\n",
      "Done.\n"
     ]
    },
    {
     "data": {
      "text/html": [
       "<table>\n",
       "    <tr>\n",
       "        <th>id</th>\n",
       "        <th>name</th>\n",
       "        <th>birthday</th>\n",
       "        <th>email</th>\n",
       "    </tr>\n",
       "    <tr>\n",
       "        <td>2</td>\n",
       "        <td>John Doe</td>\n",
       "        <td>1990-01-30</td>\n",
       "        <td>john@codecademy.com</td>\n",
       "    </tr>\n",
       "    <tr>\n",
       "        <td>3</td>\n",
       "        <td>Benjamin Bos</td>\n",
       "        <td>1990-04-12</td>\n",
       "        <td>benjamin@codecademy.com</td>\n",
       "    </tr>\n",
       "</table>"
      ],
      "text/plain": [
       "[(2, 'John Doe', '1990-01-30', 'john@codecademy.com'),\n",
       " (3, 'Benjamin Bos', '1990-04-12', 'benjamin@codecademy.com')]"
      ]
     },
     "execution_count": 2,
     "metadata": {},
     "output_type": "execute_result"
    }
   ],
   "source": [
    "%%sql \n",
    "CREATE TABLE friends (\n",
    "   id INTEGER,\n",
    "   name TEXT,\n",
    "   birthday DATE\n",
    ");\n",
    "         \n",
    "INSERT INTO friends (id, name, birthday) \n",
    "   VALUES (1, \"Jane Doe\", \"1990-05-30\");\n",
    "\n",
    "INSERT INTO friends (id, name, birthday) \n",
    "   VALUES (2, \"John Doe\", \"1990-01-30\");\n",
    "\n",
    "INSERT INTO friends (id, name, birthday) \n",
    "   VALUES (3, \"Benjamin Bos\", \"1990-04-12\");\n",
    "\n",
    "UPDATE friends\n",
    "   SET name = \"Jane Smith\"\n",
    "   WHERE name = \"Jane Doe\";\n",
    "\n",
    "ALTER TABLE friends \n",
    "   ADD COLUMN email TEXT; \n",
    "\n",
    "UPDATE friends\n",
    "   SET email = \"jane@codecademy.com\"\n",
    "   WHERE id = 1;\n",
    "\n",
    "UPDATE friends\n",
    "   SET email = \"john@codecademy.com\"\n",
    "   WHERE id = 2;\n",
    "\n",
    "UPDATE friends\n",
    "   SET email = \"benjamin@codecademy.com\"\n",
    "   WHERE id = 3;\n",
    "\n",
    "DELETE FROM friends\n",
    "   WHERE id = 1;\n",
    "   \n",
    "SELECT * \n",
    "   FROM friends;"
   ]
  }
 ],
 "metadata": {
  "kernelspec": {
   "display_name": "Python 3",
   "language": "python",
   "name": "python3"
  },
  "language_info": {
   "codemirror_mode": {
    "name": "ipython",
    "version": 3
   },
   "file_extension": ".py",
   "mimetype": "text/x-python",
   "name": "python",
   "nbconvert_exporter": "python",
   "pygments_lexer": "ipython3",
   "version": "3.8.3"
  }
 },
 "nbformat": 4,
 "nbformat_minor": 4
}
